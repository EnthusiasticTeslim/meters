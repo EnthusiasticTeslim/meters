{
 "cells": [
  {
   "cell_type": "code",
   "execution_count": 1,
   "metadata": {},
   "outputs": [
    {
     "data": {
      "text/plain": [
       "'/Users/admin/Documents/GitHub/meters'"
      ]
     },
     "execution_count": 1,
     "metadata": {},
     "output_type": "execute_result"
    }
   ],
   "source": [
    "import sys\n",
    "import os\n",
    "\n",
    "os.chdir(\"../\")\n",
    "\n",
    "os.getcwd()"
   ]
  },
  {
   "attachments": {},
   "cell_type": "markdown",
   "metadata": {},
   "source": [
    "# Load libraries"
   ]
  },
  {
   "cell_type": "code",
   "execution_count": 2,
   "metadata": {},
   "outputs": [],
   "source": [
    "from source.data_preprocess import DataPreprocessing\n",
    "from source.model_builder import ModelBuilder"
   ]
  },
  {
   "attachments": {},
   "cell_type": "markdown",
   "metadata": {},
   "source": [
    "# Load data"
   ]
  },
  {
   "cell_type": "code",
   "execution_count": 3,
   "metadata": {},
   "outputs": [
    {
     "name": "stdout",
     "output_type": "stream",
     "text": [
      "         0         1         2         3          4          5         6   \\\n",
      "0  0.841499  1.009367  0.993816  8.469805  10.278727  10.037759  8.501365   \n",
      "1  0.842250  1.006584  0.996605  7.531891   9.139924   8.951618  7.612213   \n",
      "2  0.840723  1.011647  0.998152  6.641699   7.975464   7.857692  6.593117   \n",
      "3  0.841119  1.017807  0.996812  5.687524   6.824334   6.689885  5.615428   \n",
      "4  0.840358  1.016534  0.996221  5.660385   6.829560   6.675628  5.623977   \n",
      "\n",
      "         7          8          9   ...         27         28         29  \\\n",
      "0  8.581726  10.247763  10.058822  ...  32.451173  34.568685  33.082683   \n",
      "1  7.623325   9.106345   8.945142  ...  32.428385  34.441732  33.081055   \n",
      "2  6.681572   7.964596   7.814698  ...  32.428385  34.275715  33.113605   \n",
      "3  5.763315   6.801051   6.686639  ...  32.485350  34.080403  33.170573   \n",
      "4  5.736818   6.813453   6.672377  ...  32.503255  34.122720  33.164062   \n",
      "\n",
      "          30         31         32         33         34         35  36  \n",
      "0  36.722005  36.969403  36.075847  36.051432  35.174155  32.729490   1  \n",
      "1  36.687825  36.933595  36.054688  35.979818  34.847005  32.731122   1  \n",
      "2  36.661785  36.873370  36.002605  35.963542  34.689128  32.771810   1  \n",
      "3  36.673177  36.811525  35.974935  35.955403  34.500328  32.849935   1  \n",
      "4  36.673177  36.826173  35.996095  35.968425  34.474283  32.853190   1  \n",
      "\n",
      "[5 rows x 37 columns]\n"
     ]
    }
   ],
   "source": [
    "preprocessor = DataPreprocessing()\n",
    "\n",
    "data = preprocessor.load_data('data/Meter_A.txt')"
   ]
  },
  {
   "attachments": {},
   "cell_type": "markdown",
   "metadata": {},
   "source": [
    "# Split data"
   ]
  },
  {
   "cell_type": "code",
   "execution_count": 4,
   "metadata": {},
   "outputs": [],
   "source": [
    "train, test = preprocessor.split_data(data)\n",
    "xtrain = train[:, :-1]\n",
    "ytrain = train[:, -1]\n",
    "\n",
    "xtest = test[:, :-1]\n",
    "ytest = test[:, -1]"
   ]
  },
  {
   "cell_type": "code",
   "execution_count": 5,
   "metadata": {},
   "outputs": [
    {
     "data": {
      "text/plain": [
       "{1.0, 2.0}"
      ]
     },
     "execution_count": 5,
     "metadata": {},
     "output_type": "execute_result"
    }
   ],
   "source": [
    "set(ytrain)"
   ]
  },
  {
   "attachments": {},
   "cell_type": "markdown",
   "metadata": {},
   "source": [
    "# Scale data"
   ]
  },
  {
   "cell_type": "code",
   "execution_count": 6,
   "metadata": {},
   "outputs": [],
   "source": [
    "\n",
    "scaled_xtrain, scaled_xtest = preprocessor.normalize_data(xtrain, xtest)"
   ]
  },
  {
   "attachments": {},
   "cell_type": "markdown",
   "metadata": {},
   "source": [
    "# Train and Test Model"
   ]
  },
  {
   "cell_type": "code",
   "execution_count": 7,
   "metadata": {},
   "outputs": [],
   "source": [
    "model_builder = ModelBuilder()\n"
   ]
  },
  {
   "cell_type": "code",
   "execution_count": 8,
   "metadata": {},
   "outputs": [],
   "source": [
    "hyperparameters = {\n",
    "                    'hidden_layer_sizes': [(1,), (5,), (20,), (50,), (100,), (120,), (150,), (200,)],\n",
    "                    'learning_rate_init': [0.0001, 0.001, 0.01, 0.1, 1, 10],\n",
    "                    'max_iter': [1, 10, 50, 100, 200, 400, 1000, 10000]\n",
    "                    }"
   ]
  },
  {
   "cell_type": "code",
   "execution_count": 21,
   "metadata": {},
   "outputs": [],
   "source": [
    "import pandas as pd\n",
    "results = pd.DataFrame(data = {}, columns = ['hidden_layer_sizes', 'learning_rate_init', 'max_iter', 'score_TRAIN', 'score_TEST'])\n",
    "idx = 0\n",
    "for parameter, values in hyperparameters.items():\n",
    "    for param in values:\n",
    "        # use the set parameters to test the hidden_layer_sizes sample space\n",
    "        if parameter == \"hidden_layer_sizes\":\n",
    "            model_builder.ann(\n",
    "                                    X_train = scaled_xtrain, \n",
    "                                    X_test  = scaled_xtest,\n",
    "                                    y_train = ytrain, \n",
    "                                    y_test  = ytest,\n",
    "                                    hidden_lay_sizes = param, \n",
    "                                    learn_rate_init = None, \n",
    "                                    iteration = None\n",
    "                                    )\n",
    "            results.loc[idx, 'max_iter']    = 200\n",
    "            results.loc[idx, 'learning_rate_init']  = 0.001\n",
    "        # use the set parameters to test the learning_rate_init sample space\n",
    "        if parameter == \"learning_rate_init\":\n",
    "            model_builder.ann(\n",
    "                                    X_train = scaled_xtrain, \n",
    "                                    X_test  = scaled_xtest,\n",
    "                                    y_train = ytrain, \n",
    "                                    y_test  = ytest,\n",
    "                                    hidden_lay_sizes = None, \n",
    "                                    learn_rate_init = param, \n",
    "                                    iteration = None\n",
    "                                    )\n",
    "            results.loc[idx, 'hidden_layer_sizes']     = (100,)\n",
    "            results.loc[idx, 'max_iter']     = 200\n",
    "        \n",
    "        # use the set parameters to test the max_iter sample space\n",
    "        if parameter == \"max_iter\":\n",
    "            model_builder.ann(\n",
    "                                    X_train = scaled_xtrain, \n",
    "                                    X_test  = scaled_xtest,\n",
    "                                    y_train = ytrain, \n",
    "                                    y_test  = ytest,\n",
    "                                    hidden_lay_sizes = None, \n",
    "                                    learn_rate_init = None, \n",
    "                                    iteration = param\n",
    "                                    )\n",
    "            results.loc[idx, 'hidden_layer_sizes']     = (100,)\n",
    "            results.loc[idx, 'learning_rate_init']     = 0.001\n",
    "        \n",
    "        results.loc[idx, parameter]     = param\n",
    "        results.loc[idx, 'score_TRAIN'] = model_builder.trainScores\n",
    "        results.loc[idx, 'score_TEST']  = model_builder.testScores\n",
    "        idx += 1\n",
    "        #print(model_builder.trainScores, model_builder.testScores)\n"
   ]
  },
  {
   "cell_type": "code",
   "execution_count": 22,
   "metadata": {},
   "outputs": [
    {
     "data": {
      "text/html": [
       "<div>\n",
       "<style scoped>\n",
       "    .dataframe tbody tr th:only-of-type {\n",
       "        vertical-align: middle;\n",
       "    }\n",
       "\n",
       "    .dataframe tbody tr th {\n",
       "        vertical-align: top;\n",
       "    }\n",
       "\n",
       "    .dataframe thead th {\n",
       "        text-align: right;\n",
       "    }\n",
       "</style>\n",
       "<table border=\"1\" class=\"dataframe\">\n",
       "  <thead>\n",
       "    <tr style=\"text-align: right;\">\n",
       "      <th></th>\n",
       "      <th>hidden_layer_sizes</th>\n",
       "      <th>learning_rate_init</th>\n",
       "      <th>max_iter</th>\n",
       "      <th>score_TRAIN</th>\n",
       "      <th>score_TEST</th>\n",
       "    </tr>\n",
       "  </thead>\n",
       "  <tbody>\n",
       "    <tr>\n",
       "      <th>0</th>\n",
       "      <td>(1,)</td>\n",
       "      <td>0.001</td>\n",
       "      <td>200</td>\n",
       "      <td>0.681159</td>\n",
       "      <td>0.666667</td>\n",
       "    </tr>\n",
       "    <tr>\n",
       "      <th>1</th>\n",
       "      <td>(5,)</td>\n",
       "      <td>0.001</td>\n",
       "      <td>200</td>\n",
       "      <td>0.855072</td>\n",
       "      <td>0.833333</td>\n",
       "    </tr>\n",
       "    <tr>\n",
       "      <th>2</th>\n",
       "      <td>(20,)</td>\n",
       "      <td>0.001</td>\n",
       "      <td>200</td>\n",
       "      <td>0.942029</td>\n",
       "      <td>1.0</td>\n",
       "    </tr>\n",
       "    <tr>\n",
       "      <th>3</th>\n",
       "      <td>(50,)</td>\n",
       "      <td>0.001</td>\n",
       "      <td>200</td>\n",
       "      <td>1.0</td>\n",
       "      <td>1.0</td>\n",
       "    </tr>\n",
       "    <tr>\n",
       "      <th>4</th>\n",
       "      <td>(100,)</td>\n",
       "      <td>0.001</td>\n",
       "      <td>200</td>\n",
       "      <td>1.0</td>\n",
       "      <td>1.0</td>\n",
       "    </tr>\n",
       "    <tr>\n",
       "      <th>5</th>\n",
       "      <td>(120,)</td>\n",
       "      <td>0.001</td>\n",
       "      <td>200</td>\n",
       "      <td>1.0</td>\n",
       "      <td>0.888889</td>\n",
       "    </tr>\n",
       "    <tr>\n",
       "      <th>6</th>\n",
       "      <td>(150,)</td>\n",
       "      <td>0.001</td>\n",
       "      <td>200</td>\n",
       "      <td>1.0</td>\n",
       "      <td>0.944444</td>\n",
       "    </tr>\n",
       "    <tr>\n",
       "      <th>7</th>\n",
       "      <td>(200,)</td>\n",
       "      <td>0.001</td>\n",
       "      <td>200</td>\n",
       "      <td>1.0</td>\n",
       "      <td>0.888889</td>\n",
       "    </tr>\n",
       "    <tr>\n",
       "      <th>8</th>\n",
       "      <td>(100,)</td>\n",
       "      <td>0.0001</td>\n",
       "      <td>200</td>\n",
       "      <td>0.913043</td>\n",
       "      <td>0.833333</td>\n",
       "    </tr>\n",
       "    <tr>\n",
       "      <th>9</th>\n",
       "      <td>(100,)</td>\n",
       "      <td>0.001</td>\n",
       "      <td>200</td>\n",
       "      <td>1.0</td>\n",
       "      <td>0.888889</td>\n",
       "    </tr>\n",
       "    <tr>\n",
       "      <th>10</th>\n",
       "      <td>(100,)</td>\n",
       "      <td>0.01</td>\n",
       "      <td>200</td>\n",
       "      <td>1.0</td>\n",
       "      <td>0.888889</td>\n",
       "    </tr>\n",
       "    <tr>\n",
       "      <th>11</th>\n",
       "      <td>(100,)</td>\n",
       "      <td>0.1</td>\n",
       "      <td>200</td>\n",
       "      <td>1.0</td>\n",
       "      <td>0.944444</td>\n",
       "    </tr>\n",
       "    <tr>\n",
       "      <th>12</th>\n",
       "      <td>(100,)</td>\n",
       "      <td>1</td>\n",
       "      <td>200</td>\n",
       "      <td>0.84058</td>\n",
       "      <td>0.777778</td>\n",
       "    </tr>\n",
       "    <tr>\n",
       "      <th>13</th>\n",
       "      <td>(100,)</td>\n",
       "      <td>10</td>\n",
       "      <td>200</td>\n",
       "      <td>0.768116</td>\n",
       "      <td>0.611111</td>\n",
       "    </tr>\n",
       "    <tr>\n",
       "      <th>14</th>\n",
       "      <td>(100,)</td>\n",
       "      <td>0.001</td>\n",
       "      <td>1</td>\n",
       "      <td>0.376812</td>\n",
       "      <td>0.5</td>\n",
       "    </tr>\n",
       "    <tr>\n",
       "      <th>15</th>\n",
       "      <td>(100,)</td>\n",
       "      <td>0.001</td>\n",
       "      <td>10</td>\n",
       "      <td>0.666667</td>\n",
       "      <td>0.5</td>\n",
       "    </tr>\n",
       "    <tr>\n",
       "      <th>16</th>\n",
       "      <td>(100,)</td>\n",
       "      <td>0.001</td>\n",
       "      <td>50</td>\n",
       "      <td>0.942029</td>\n",
       "      <td>1.0</td>\n",
       "    </tr>\n",
       "    <tr>\n",
       "      <th>17</th>\n",
       "      <td>(100,)</td>\n",
       "      <td>0.001</td>\n",
       "      <td>100</td>\n",
       "      <td>0.971014</td>\n",
       "      <td>1.0</td>\n",
       "    </tr>\n",
       "    <tr>\n",
       "      <th>18</th>\n",
       "      <td>(100,)</td>\n",
       "      <td>0.001</td>\n",
       "      <td>200</td>\n",
       "      <td>1.0</td>\n",
       "      <td>0.888889</td>\n",
       "    </tr>\n",
       "    <tr>\n",
       "      <th>19</th>\n",
       "      <td>(100,)</td>\n",
       "      <td>0.001</td>\n",
       "      <td>400</td>\n",
       "      <td>1.0</td>\n",
       "      <td>0.888889</td>\n",
       "    </tr>\n",
       "    <tr>\n",
       "      <th>20</th>\n",
       "      <td>(100,)</td>\n",
       "      <td>0.001</td>\n",
       "      <td>1000</td>\n",
       "      <td>1.0</td>\n",
       "      <td>0.888889</td>\n",
       "    </tr>\n",
       "    <tr>\n",
       "      <th>21</th>\n",
       "      <td>(100,)</td>\n",
       "      <td>0.001</td>\n",
       "      <td>10000</td>\n",
       "      <td>1.0</td>\n",
       "      <td>0.888889</td>\n",
       "    </tr>\n",
       "  </tbody>\n",
       "</table>\n",
       "</div>"
      ],
      "text/plain": [
       "   hidden_layer_sizes learning_rate_init max_iter score_TRAIN score_TEST\n",
       "0                (1,)              0.001      200    0.681159   0.666667\n",
       "1                (5,)              0.001      200    0.855072   0.833333\n",
       "2               (20,)              0.001      200    0.942029        1.0\n",
       "3               (50,)              0.001      200         1.0        1.0\n",
       "4              (100,)              0.001      200         1.0        1.0\n",
       "5              (120,)              0.001      200         1.0   0.888889\n",
       "6              (150,)              0.001      200         1.0   0.944444\n",
       "7              (200,)              0.001      200         1.0   0.888889\n",
       "8              (100,)             0.0001      200    0.913043   0.833333\n",
       "9              (100,)              0.001      200         1.0   0.888889\n",
       "10             (100,)               0.01      200         1.0   0.888889\n",
       "11             (100,)                0.1      200         1.0   0.944444\n",
       "12             (100,)                  1      200     0.84058   0.777778\n",
       "13             (100,)                 10      200    0.768116   0.611111\n",
       "14             (100,)              0.001        1    0.376812        0.5\n",
       "15             (100,)              0.001       10    0.666667        0.5\n",
       "16             (100,)              0.001       50    0.942029        1.0\n",
       "17             (100,)              0.001      100    0.971014        1.0\n",
       "18             (100,)              0.001      200         1.0   0.888889\n",
       "19             (100,)              0.001      400         1.0   0.888889\n",
       "20             (100,)              0.001     1000         1.0   0.888889\n",
       "21             (100,)              0.001    10000         1.0   0.888889"
      ]
     },
     "execution_count": 22,
     "metadata": {},
     "output_type": "execute_result"
    }
   ],
   "source": [
    "results"
   ]
  },
  {
   "cell_type": "code",
   "execution_count": 27,
   "metadata": {},
   "outputs": [
    {
     "data": {
      "text/plain": [
       "<AxesSubplot:xlabel='hidden_layer_sizes'>"
      ]
     },
     "execution_count": 27,
     "metadata": {},
     "output_type": "execute_result"
    },
    {
     "data": {
      "image/png": "[encoded data removed]",
      "text/plain": [
       "<Figure size 432x288 with 1 Axes>"
      ]
     },
     "metadata": {
      "needs_background": "light"
     },
     "output_type": "display_data"
    }
   ],
   "source": [
    "# Effect of hidden layer sizes while keeping max_iter and learning_rate_init constant\n",
    "results.iloc[0:8].plot.bar(x = 'hidden_layer_sizes', y = ['score_TRAIN', 'score_TEST'])"
   ]
  },
  {
   "cell_type": "code",
   "execution_count": 28,
   "metadata": {},
   "outputs": [
    {
     "data": {
      "text/plain": [
       "<AxesSubplot:xlabel='learning_rate_init'>"
      ]
     },
     "execution_count": 28,
     "metadata": {},
     "output_type": "execute_result"
    },
    {
     "data": {
      "image/png": "[encoded data removed]",
      "text/plain": [
       "<Figure size 432x288 with 1 Axes>"
      ]
     },
     "metadata": {
      "needs_background": "light"
     },
     "output_type": "display_data"
    }
   ],
   "source": [
    "# Effect of learning_rate_init while keeping max_iter and hidden_layer_sizes constant\n",
    "results.iloc[8:14].plot.bar(x = 'learning_rate_init', y = ['score_TRAIN', 'score_TEST'])"
   ]
  },
  {
   "cell_type": "code",
   "execution_count": 29,
   "metadata": {},
   "outputs": [
    {
     "data": {
      "text/plain": [
       "<AxesSubplot:xlabel='max_iter'>"
      ]
     },
     "execution_count": 29,
     "metadata": {},
     "output_type": "execute_result"
    },
    {
     "data": {
      "image/png": "[encoded data removed]",
      "text/plain": [
       "<Figure size 432x288 with 1 Axes>"
      ]
     },
     "metadata": {
      "needs_background": "light"
     },
     "output_type": "display_data"
    }
   ],
   "source": [
    "# Effect of max_iter while keeping learning_rate_init and hidden_layer_sizes constant\n",
    "results.iloc[14:22].plot.bar(x = 'max_iter', y = ['score_TRAIN', 'score_TEST'])"
   ]
  },
  {
   "attachments": {},
   "cell_type": "markdown",
   "metadata": {},
   "source": [
    "# Explain Model"
   ]
  },
  {
   "attachments": {},
   "cell_type": "markdown",
   "metadata": {},
   "source": [
    "Generally, the following observations were discovered:\n",
    "1) Changing the hyperparameters leads to change in predictive performance of the ANN model.\n",
    "2) Increasing the number of neurons in the ith hidden layer leads to better ANN model until a point when the model starts overfitting and thus loss of predictive\n",
    "performance on unseen data.\n",
    "3) Increasing the initial learning rate (learning_rate_init) results in the loss of predictive performance of a model.\n",
    "4) Increasing the maximum number of iterations (max_iter) leads to better ANN model.\n"
   ]
  }
 ],
 "metadata": {
  "kernelspec": {
   "display_name": "base",
   "language": "python",
   "name": "python3"
  },
  "language_info": {
   "codemirror_mode": {
    "name": "ipython",
    "version": 3
   },
   "file_extension": ".py",
   "mimetype": "text/x-python",
   "name": "python",
   "nbconvert_exporter": "python",
   "pygments_lexer": "ipython3",
   "version": "3.8.8"
  },
  "orig_nbformat": 4,
  "vscode": {
   "interpreter": {
    "hash": "651c3b7b3f466eb030aa737f279c846be4db9cba49a2f229278cab5e41121ed5"
   }
  }
 },
 "nbformat": 4,
 "nbformat_minor": 2
}
